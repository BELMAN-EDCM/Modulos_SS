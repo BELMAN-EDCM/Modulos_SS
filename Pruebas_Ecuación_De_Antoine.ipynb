{
  "nbformat": 4,
  "nbformat_minor": 0,
  "metadata": {
    "colab": {
      "provenance": [],
      "authorship_tag": "ABX9TyMKPEIe5uwsSU1UvgDLWmy+",
      "include_colab_link": true
    },
    "kernelspec": {
      "name": "python3",
      "display_name": "Python 3"
    },
    "language_info": {
      "name": "python"
    }
  },
  "cells": [
    {
      "cell_type": "markdown",
      "metadata": {
        "id": "view-in-github",
        "colab_type": "text"
      },
      "source": [
        "<a href=\"https://colab.research.google.com/github/BELMAN-EDCM/Modulos_SS/blob/main/Pruebas_Ecuaci%C3%B3n_De_Antoine.ipynb\" target=\"_parent\"><img src=\"https://colab.research.google.com/assets/colab-badge.svg\" alt=\"Open In Colab\"/></a>"
      ]
    },
    {
      "cell_type": "markdown",
      "source": [
        "#La ecuación de Antoine permite mediante el uso de una **temperatura** y los coeficientes propios de cada compuesto (*Los cuales reciben el nombre de coeficientes de Antoine*) obtener la **presión de saturación** de este#"
      ],
      "metadata": {
        "id": "hjs4U3A_63HM"
      }
    },
    {
      "cell_type": "markdown",
      "source": [
        "###Y la cual se expresa de la siguiente manera:###\n",
        "# $Ln P^{sat}=A-\\frac{B}{T+C}$#\n"
      ],
      "metadata": {
        "id": "TA_SlH1D7P14"
      }
    },
    {
      "cell_type": "markdown",
      "source": [
        "###La presión resultante, de acuerdo al tipo de datos alimentados, estará en Pa/mmHg, mientras que la temperatura debe ser alimentada a la fórmula en K/°C###"
      ],
      "metadata": {
        "id": "63SHNj3b9rG2"
      }
    },
    {
      "cell_type": "markdown",
      "source": [
        "####Los datos utilizados en la ecuación deben ser alimentados (Principalmente la temperatura), mientras que los coeficientes (*a, b y c*) pueden ser alimentados de ya sea de forma manual o por alguna base de datos que contenga la información de distintos compuestos####"
      ],
      "metadata": {
        "id": "tFtcxh6p98WY"
      }
    },
    {
      "cell_type": "markdown",
      "source": [
        "###Por funciones inversas, sabemos que la ecuación de Antoine puede ser descrita de la siguiente manera###"
      ],
      "metadata": {
        "id": "sATaaO-LndJf"
      }
    },
    {
      "cell_type": "markdown",
      "source": [
        "> # $P^{sat}=e^{A-\\frac{B}{T+C}}$"
      ],
      "metadata": {
        "id": "4NSljE8dn1ix"
      }
    },
    {
      "cell_type": "markdown",
      "source": [
        "A continuación se realizará un ejemplo\n",
        "\n",
        "**Calcular la presión de saturación del agua a 25 °C**"
      ],
      "metadata": {
        "id": "uYRbLdTi7J6t"
      }
    }
  ]
}