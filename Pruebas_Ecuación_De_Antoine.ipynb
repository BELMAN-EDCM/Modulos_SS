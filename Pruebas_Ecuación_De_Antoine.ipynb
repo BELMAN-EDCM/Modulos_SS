{
  "nbformat": 4,
  "nbformat_minor": 0,
  "metadata": {
    "colab": {
      "provenance": [],
      "authorship_tag": "ABX9TyMD+9F1Kg0XV2qcLUS+isgT",
      "include_colab_link": true
    },
    "kernelspec": {
      "name": "python3",
      "display_name": "Python 3"
    },
    "language_info": {
      "name": "python"
    }
  },
  "cells": [
    {
      "cell_type": "markdown",
      "metadata": {
        "id": "view-in-github",
        "colab_type": "text"
      },
      "source": [
        "<a href=\"https://colab.research.google.com/github/BELMAN-EDCM/Modulos_SS/blob/main/Pruebas_Ecuaci%C3%B3n_De_Antoine.ipynb\" target=\"_parent\"><img src=\"https://colab.research.google.com/assets/colab-badge.svg\" alt=\"Open In Colab\"/></a>"
      ]
    },
    {
      "cell_type": "markdown",
      "source": [
        "# ***Calculadora de Antoine***"
      ],
      "metadata": {
        "id": "MM1iOla1Asa6"
      }
    },
    {
      "cell_type": "markdown",
      "source": [
        "##La ecuación de Antoine permite mediante el uso de una **temperatura** y los coeficientes propios de cada compuesto (*Los cuales reciben el nombre de coeficientes de Antoine*) obtener la **presión de saturación** de este"
      ],
      "metadata": {
        "id": "hjs4U3A_63HM"
      }
    },
    {
      "cell_type": "markdown",
      "source": [
        "##Y la cual se expresa de la siguiente manera:###\n",
        "# $Ln P^{sat}=A-\\frac{B}{T+C}$#\n"
      ],
      "metadata": {
        "id": "TA_SlH1D7P14"
      }
    },
    {
      "cell_type": "markdown",
      "source": [
        "###La presión resultante, de acuerdo al tipo de datos alimentados, estará en Pa/mmHg, mientras que la temperatura debe ser alimentada a la fórmula en K/°C###"
      ],
      "metadata": {
        "id": "63SHNj3b9rG2"
      }
    },
    {
      "cell_type": "markdown",
      "source": [
        "####Los datos utilizados en la ecuación deben ser alimentados (Principalmente la temperatura), mientras que los coeficientes (*a, b y c*) pueden ser alimentados de ya sea de forma manual o por alguna base de datos que contenga la información de distintos compuestos####"
      ],
      "metadata": {
        "id": "tFtcxh6p98WY"
      }
    },
    {
      "cell_type": "markdown",
      "source": [
        "###Por funciones inversas, sabemos que la ecuación de Antoine puede ser descrita de la siguiente manera###"
      ],
      "metadata": {
        "id": "sATaaO-LndJf"
      }
    },
    {
      "cell_type": "markdown",
      "source": [
        "> # $P^{sat}=e^{A-\\frac{B}{T+C}}$"
      ],
      "metadata": {
        "id": "4NSljE8dn1ix"
      }
    },
    {
      "cell_type": "markdown",
      "source": [
        "A continuación se realizará un ejemplo\n",
        "\n",
        "**Calcular la presión de saturación del agua a una cierta temperatura**"
      ],
      "metadata": {
        "id": "uYRbLdTi7J6t"
      }
    },
    {
      "cell_type": "code",
      "source": [
        "import math\n",
        "from math import exp\n",
        "print(\"Inserte la temperatura en °C\")\n",
        "num = float(input(\"valor: \"))\n",
        "num1=num+273.15\n",
        "print(num1, \"K\")\n",
        "print(\"Inserte las constantes de Antoine de su compuesto: \")\n",
        "A = float(input(\"Valor de A: \"))\n",
        "B = float(input(\"Valor de B: \"))\n",
        "C = float(input(\"Valor de C: \"))\n",
        "num2=exp(A-(B/(num1+C)))\n",
        "print(\"El valor de la Presión de saturación para su compuesto a la Temperatura de \", num1, \"es:\")\n",
        "print(\"\\t\\t\",round(num2/1000, 3), \"KPa\")"
      ],
      "metadata": {
        "id": "EC8Cri0qr7F3",
        "outputId": "01090491-c862-4506-8510-0c1f83be29e2",
        "colab": {
          "base_uri": "https://localhost:8080/"
        }
      },
      "execution_count": 1,
      "outputs": [
        {
          "output_type": "stream",
          "name": "stdout",
          "text": [
            "Inserte la temperatura en °C\n",
            "valor: 25\n",
            "298.15 K\n",
            "Inserte las constantes de Antoine de su compuesto: \n",
            "Valor de A: 16\n",
            "Valor de B: 3000\n",
            "Valor de C: 350\n",
            "El valor de la Presión de saturación para su compuesto a la Temperatura de  298.15 es:\n",
            "\t\t 86.807 KPa\n"
          ]
        }
      ]
    }
  ]
}