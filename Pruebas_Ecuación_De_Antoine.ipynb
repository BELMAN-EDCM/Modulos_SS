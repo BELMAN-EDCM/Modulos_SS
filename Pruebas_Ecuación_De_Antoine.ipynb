{
  "nbformat": 4,
  "nbformat_minor": 0,
  "metadata": {
    "colab": {
      "provenance": [],
      "authorship_tag": "ABX9TyM90fr1vBgDYWucxPEe4sTg",
      "include_colab_link": true
    },
    "kernelspec": {
      "name": "python3",
      "display_name": "Python 3"
    },
    "language_info": {
      "name": "python"
    }
  },
  "cells": [
    {
      "cell_type": "markdown",
      "metadata": {
        "id": "view-in-github",
        "colab_type": "text"
      },
      "source": [
        "<a href=\"https://colab.research.google.com/github/BELMAN-EDCM/Modulos_SS/blob/main/Pruebas_Ecuaci%C3%B3n_De_Antoine.ipynb\" target=\"_parent\"><img src=\"https://colab.research.google.com/assets/colab-badge.svg\" alt=\"Open In Colab\"/></a>"
      ]
    },
    {
      "cell_type": "markdown",
      "source": [
        "#La ecuación de Antoine permite mediante el uso de una **temperatura** y los coeficientes propios de cada compuesto (*Los cuales reciben el nombre de coeficientes de Antoine*) obtener la **presión de saturación** de este#"
      ],
      "metadata": {
        "id": "hjs4U3A_63HM"
      }
    },
    {
      "cell_type": "markdown",
      "source": [
        "###Y la cual se expresa de la siguiente manera:###\n",
        "# $Ln P^{sat}=A-\\frac{B}{T+C}$#\n"
      ],
      "metadata": {
        "id": "TA_SlH1D7P14"
      }
    },
    {
      "cell_type": "markdown",
      "source": [
        "###La presión resultante, de acuerdo al tipo de datos alimentados, estará en Pa/mmHg, mientras que la temperatura debe ser alimentada a la fórmula en K/°C###"
      ],
      "metadata": {
        "id": "63SHNj3b9rG2"
      }
    },
    {
      "cell_type": "markdown",
      "source": [
        "####Los datos utilizados en la ecuación deben ser alimentados (Principalmente la temperatura), mientras que los coeficientes (*a, b y c*) pueden ser alimentados de ya sea de forma manual o por alguna base de datos que contenga la información de distintos compuestos####"
      ],
      "metadata": {
        "id": "tFtcxh6p98WY"
      }
    },
    {
      "cell_type": "markdown",
      "source": [
        "###Por funciones inversas, sabemos que la ecuación de Antoine puede ser descrita de la siguiente manera###"
      ],
      "metadata": {
        "id": "sATaaO-LndJf"
      }
    },
    {
      "cell_type": "markdown",
      "source": [
        "> # $P^{sat}=e^{A-\\frac{B}{T+C}}$"
      ],
      "metadata": {
        "id": "4NSljE8dn1ix"
      }
    },
    {
      "cell_type": "markdown",
      "source": [
        "A continuación se realizará un ejemplo\n",
        "\n",
        "**Calcular la presión de saturación del agua a una cierta temperatura**"
      ],
      "metadata": {
        "id": "uYRbLdTi7J6t"
      }
    },
    {
      "cell_type": "code",
      "source": [
        "import math\n",
        "print(\"Inserte la temperatura en °C\")\n",
        "num = float(input(\"valor: \"))\n",
        "num1=num+273.15\n",
        "print(num1, \"K\")\n",
        "print(\"Inserte las constantes de Antoine de su compuesto: \")\n",
        "A = float(input(\"Valor de A: \"))\n",
        "B = float(input(\"Valor de B: \"))\n",
        "C = float(input(\"Valor de C: \"))\n",
        "num2=exp(A-(B/(num1+C)))\n",
        "print(\"El valor de la Presión de saturación para su compuesto a la Temperatura de \", num1, \"es\", num2)"
      ],
      "metadata": {
        "id": "EC8Cri0qr7F3",
        "outputId": "1d45b961-30f6-4139-930a-45635c9ec346",
        "colab": {
          "base_uri": "https://localhost:8080/",
          "height": 252
        }
      },
      "execution_count": 124,
      "outputs": [
        {
          "output_type": "stream",
          "name": "stdout",
          "text": [
            "Inserte la temperatura en °C\n"
          ]
        },
        {
          "output_type": "error",
          "ename": "TypeError",
          "evalue": "ignored",
          "traceback": [
            "\u001b[0;31m---------------------------------------------------------------------------\u001b[0m",
            "\u001b[0;31mTypeError\u001b[0m                                 Traceback (most recent call last)",
            "\u001b[0;32m<ipython-input-124-27e8882d9f51>\u001b[0m in \u001b[0;36m<cell line: 3>\u001b[0;34m()\u001b[0m\n\u001b[1;32m      1\u001b[0m \u001b[0;32mimport\u001b[0m \u001b[0mmath\u001b[0m\u001b[0;34m\u001b[0m\u001b[0;34m\u001b[0m\u001b[0m\n\u001b[1;32m      2\u001b[0m \u001b[0mprint\u001b[0m\u001b[0;34m(\u001b[0m\u001b[0;34m\"Inserte la temperatura en °C\"\u001b[0m\u001b[0;34m)\u001b[0m\u001b[0;34m\u001b[0m\u001b[0;34m\u001b[0m\u001b[0m\n\u001b[0;32m----> 3\u001b[0;31m \u001b[0mnum\u001b[0m \u001b[0;34m=\u001b[0m \u001b[0mfloat\u001b[0m\u001b[0;34m(\u001b[0m\u001b[0minput\u001b[0m\u001b[0;34m(\u001b[0m\u001b[0;34m\"valor: \"\u001b[0m\u001b[0;34m)\u001b[0m\u001b[0;34m)\u001b[0m\u001b[0;34m\u001b[0m\u001b[0;34m\u001b[0m\u001b[0m\n\u001b[0m\u001b[1;32m      4\u001b[0m \u001b[0mnum1\u001b[0m\u001b[0;34m=\u001b[0m\u001b[0mnum\u001b[0m\u001b[0;34m+\u001b[0m\u001b[0;36m273.15\u001b[0m\u001b[0;34m\u001b[0m\u001b[0;34m\u001b[0m\u001b[0m\n\u001b[1;32m      5\u001b[0m \u001b[0mprint\u001b[0m\u001b[0;34m(\u001b[0m\u001b[0mnum1\u001b[0m\u001b[0;34m,\u001b[0m \u001b[0;34m\"K\"\u001b[0m\u001b[0;34m)\u001b[0m\u001b[0;34m\u001b[0m\u001b[0;34m\u001b[0m\u001b[0m\n",
            "\u001b[0;31mTypeError\u001b[0m: 'tuple' object is not callable"
          ]
        }
      ]
    }
  ]
}