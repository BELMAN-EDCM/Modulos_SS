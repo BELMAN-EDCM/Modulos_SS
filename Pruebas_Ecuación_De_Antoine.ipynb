{
  "nbformat": 4,
  "nbformat_minor": 0,
  "metadata": {
    "colab": {
      "provenance": [],
      "authorship_tag": "ABX9TyO6tTeJhjhoWQbkzSZ3+/Ti",
      "include_colab_link": true
    },
    "kernelspec": {
      "name": "python3",
      "display_name": "Python 3"
    },
    "language_info": {
      "name": "python"
    }
  },
  "cells": [
    {
      "cell_type": "markdown",
      "metadata": {
        "id": "view-in-github",
        "colab_type": "text"
      },
      "source": [
        "<a href=\"https://colab.research.google.com/github/BELMAN-EDCM/Modulos_SS/blob/main/Pruebas_Ecuaci%C3%B3n_De_Antoine.ipynb\" target=\"_parent\"><img src=\"https://colab.research.google.com/assets/colab-badge.svg\" alt=\"Open In Colab\"/></a>"
      ]
    },
    {
      "cell_type": "markdown",
      "source": [
        "La ecuación de antoine permite mediante el uso de una **temperatura** y los coeficientes propios de cada compuesto (*Los cuales reciben el nombre de\n",
        "coeficientes de Antoine*) obtener la **presión de saturación** de este."
      ],
      "metadata": {
        "id": "hjs4U3A_63HM"
      }
    },
    {
      "cell_type": "markdown",
      "source": [
        "Y la cual se expresa de la siguiente manera:\n",
        "> $Ln(P^s)=A-(B/T+C)$\n"
      ],
      "metadata": {
        "id": "TA_SlH1D7P14"
      }
    }
  ]
}