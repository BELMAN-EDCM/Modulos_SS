{
  "nbformat": 4,
  "nbformat_minor": 0,
  "metadata": {
    "colab": {
      "provenance": [],
      "include_colab_link": true
    },
    "kernelspec": {
      "name": "python3",
      "display_name": "Python 3"
    },
    "language_info": {
      "name": "python"
    }
  },
  "cells": [
    {
      "cell_type": "markdown",
      "metadata": {
        "id": "view-in-github",
        "colab_type": "text"
      },
      "source": [
        "<a href=\"https://colab.research.google.com/github/BELMAN-EDCM/Modulos_SS/blob/main/Pruebas%20CoolProp.ipynb\" target=\"_parent\"><img src=\"https://colab.research.google.com/assets/colab-badge.svg\" alt=\"Open In Colab\"/></a>"
      ]
    },
    {
      "cell_type": "markdown",
      "source": [
        "**Se necesita instalar el módulo con la anterior linea de comando**"
      ],
      "metadata": {
        "id": "j-EGEij-C72s"
      }
    },
    {
      "cell_type": "code",
      "execution_count": null,
      "metadata": {
        "colab": {
          "base_uri": "https://localhost:8080/"
        },
        "id": "8dewg5Wkx6dE",
        "outputId": "daf05920-243c-4348-ad43-56942ca57bd8"
      },
      "outputs": [
        {
          "output_type": "stream",
          "name": "stdout",
          "text": [
            "Requirement already satisfied: CoolProp in /usr/local/lib/python3.10/dist-packages (6.4.3.post1)\n"
          ]
        }
      ],
      "source": [
        "pip install CoolProp"
      ]
    },
    {
      "cell_type": "markdown",
      "source": [
        "**Se importan las propiedades del módulo**"
      ],
      "metadata": {
        "id": "cH7LqT1t1Uoz"
      }
    },
    {
      "cell_type": "markdown",
      "source": [
        "Para conocer una propiedad lo que hacemos es utilizar la función \"PropsSI\""
      ],
      "metadata": {
        "id": "mWA7eDrtDdpa"
      }
    },
    {
      "cell_type": "code",
      "source": [
        "from CoolProp.CoolProp import PropsSI"
      ],
      "metadata": {
        "id": "mbiFLUhk1WUy"
      },
      "execution_count": null,
      "outputs": []
    },
    {
      "cell_type": "markdown",
      "source": [
        "Por ejemplo, para conocer la densidad del agua a 1 atm y 25 °C"
      ],
      "metadata": {
        "id": "kesR5XhX2OZV"
      }
    },
    {
      "cell_type": "markdown",
      "source": [
        "**La estructura para conocer la propiedad en especifico es la siguiente**\n",
        "\n",
        "\n",
        "1.   Comando \"PropsSI\", **SI proviene del sistema internacional, para el sistema inglés cambia**\n",
        "2.   *Dentro del parentesis*, primero se pone la propiedad que se quiere conocer, **Por ejemplo, Densidad (D) con comillas simples**\n",
        "3.   Se coloca la 1er propiedad conocida, **por ejemplo, Temperatura (T), de igual manera, con comillas simples**\n",
        "4.   Acompañado de la propiedad conocida, se coloca el valor de esta, **Sin comillas**\n",
        "5.    Se coloca la siguiente propiedad conocida repitiendo el paso 3 y 4\n",
        "6.    Por último, se coloca la formula de la sustancia a la que corresponde la propiedad a conocer"
      ],
      "metadata": {
        "id": "9w_mf2_0F8cC"
      }
    },
    {
      "cell_type": "code",
      "source": [
        "PropsSI('D','T', 298.15,'P', 101325,'N2')"
      ],
      "metadata": {
        "colab": {
          "base_uri": "https://localhost:8080/"
        },
        "id": "AU5IbI7N2eHO",
        "outputId": "0c7c74c0-619a-4ec3-d96d-ef410a96633f"
      },
      "execution_count": 18,
      "outputs": [
        {
          "output_type": "execute_result",
          "data": {
            "text/plain": [
              "1.1452448929366679"
            ]
          },
          "metadata": {},
          "execution_count": 18
        }
      ]
    },
    {
      "cell_type": "markdown",
      "source": [
        "**Tambien se puede hacer de la siguiente manera**"
      ],
      "metadata": {
        "id": "q6e2o-jKJjUP"
      }
    },
    {
      "cell_type": "code",
      "source": [
        "rho = PropsSI('D', 'T', 298.15, 'P', 101325, 'Nitrogen')\n",
        "rho"
      ],
      "metadata": {
        "id": "ZPXcrPGRJq_y",
        "outputId": "2d2b0eb9-bb4d-4aeb-c326-d641c8fe18c7",
        "colab": {
          "base_uri": "https://localhost:8080/"
        }
      },
      "execution_count": 17,
      "outputs": [
        {
          "output_type": "execute_result",
          "data": {
            "text/plain": [
              "1.1452448929366679"
            ]
          },
          "metadata": {},
          "execution_count": 17
        }
      ]
    }
  ]
}