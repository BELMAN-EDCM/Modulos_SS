{
  "nbformat": 4,
  "nbformat_minor": 0,
  "metadata": {
    "colab": {
      "provenance": [],
      "include_colab_link": true
    },
    "kernelspec": {
      "name": "python3",
      "display_name": "Python 3"
    },
    "language_info": {
      "name": "python"
    }
  },
  "cells": [
    {
      "cell_type": "markdown",
      "metadata": {
        "id": "view-in-github",
        "colab_type": "text"
      },
      "source": [
        "<a href=\"https://colab.research.google.com/github/BELMAN-EDCM/Modulos_SS/blob/main/Pruebas%20CoolProp.ipynb\" target=\"_parent\"><img src=\"https://colab.research.google.com/assets/colab-badge.svg\" alt=\"Open In Colab\"/></a>"
      ]
    },
    {
      "cell_type": "markdown",
      "source": [
        "**Se necesita instalar el módulo con la anterior linea de comando**"
      ],
      "metadata": {
        "id": "j-EGEij-C72s"
      }
    },
    {
      "cell_type": "code",
      "execution_count": 1,
      "metadata": {
        "colab": {
          "base_uri": "https://localhost:8080/"
        },
        "id": "8dewg5Wkx6dE",
        "outputId": "da1ce5a2-d77d-4376-bbc7-a0ddbeb54d44"
      },
      "outputs": [
        {
          "output_type": "stream",
          "name": "stdout",
          "text": [
            "Collecting CoolProp\n",
            "  Downloading CoolProp-6.4.3.post1-cp310-cp310-manylinux_2_17_x86_64.manylinux2014_x86_64.whl (6.1 MB)\n",
            "\u001b[2K     \u001b[90m━━━━━━━━━━━━━━━━━━━━━━━━━━━━━━━━━━━━━━━━\u001b[0m \u001b[32m6.1/6.1 MB\u001b[0m \u001b[31m37.7 MB/s\u001b[0m eta \u001b[36m0:00:00\u001b[0m\n",
            "\u001b[?25hInstalling collected packages: CoolProp\n",
            "Successfully installed CoolProp-6.4.3.post1\n"
          ]
        }
      ],
      "source": [
        "pip install CoolProp"
      ]
    },
    {
      "cell_type": "markdown",
      "source": [
        "**Se importan las propiedades del módulo**"
      ],
      "metadata": {
        "id": "cH7LqT1t1Uoz"
      }
    },
    {
      "cell_type": "markdown",
      "source": [
        "Para conocer una propiedad lo que hacemos es utilizar la función \"PropsSI\""
      ],
      "metadata": {
        "id": "mWA7eDrtDdpa"
      }
    },
    {
      "cell_type": "code",
      "source": [
        "from CoolProp.CoolProp import PropsSI"
      ],
      "metadata": {
        "id": "mbiFLUhk1WUy"
      },
      "execution_count": 2,
      "outputs": []
    },
    {
      "cell_type": "markdown",
      "source": [
        "Por ejemplo, para conocer la densidad del nitrogeno a 1 atm y 25 °C"
      ],
      "metadata": {
        "id": "kesR5XhX2OZV"
      }
    },
    {
      "cell_type": "markdown",
      "source": [
        "**La estructura para conocer la propiedad en especifico es la siguiente**\n",
        "\n",
        "\n",
        "1.   Comando \"PropsSI\", **SI proviene del sistema internacional, para el sistema inglés cambia**\n",
        "2.   *Dentro del parentesis*, primero se pone la propiedad que se quiere conocer, **Por ejemplo, Densidad (D) con comillas simples**\n",
        "3.   Se coloca la 1er propiedad conocida, **por ejemplo, Temperatura (T), de igual manera, con comillas simples**\n",
        "4.   Acompañado de la propiedad conocida, se coloca el valor de esta, **Sin comillas**\n",
        "5.    Se coloca la siguiente propiedad conocida repitiendo el paso 3 y 4\n",
        "6.    Por último, se coloca la formula de la sustancia a la que corresponde la propiedad a conocer"
      ],
      "metadata": {
        "id": "9w_mf2_0F8cC"
      }
    },
    {
      "cell_type": "code",
      "source": [
        "#Nos arrojara directamente el valor de la propiedad de la sustancia\n",
        "PropsSI('D','T', 298.15,'P', 101325,'N2')"
      ],
      "metadata": {
        "colab": {
          "base_uri": "https://localhost:8080/"
        },
        "id": "AU5IbI7N2eHO",
        "outputId": "e5483935-0b9e-4129-afa0-9403a5e761aa"
      },
      "execution_count": 3,
      "outputs": [
        {
          "output_type": "execute_result",
          "data": {
            "text/plain": [
              "1.1452448929366679"
            ]
          },
          "metadata": {},
          "execution_count": 3
        }
      ]
    },
    {
      "cell_type": "markdown",
      "source": [
        "**Tambien se puede hacer de la siguiente manera**"
      ],
      "metadata": {
        "id": "q6e2o-jKJjUP"
      }
    },
    {
      "cell_type": "code",
      "source": [
        "#Podemos asignarle una variable al valor de la propiedad para llevar a cabo un\n",
        "#orden, de forma que se resulte facil su control y su uso en el código\n",
        "rho = PropsSI('D', 'T', 298.15, 'P', 101325, 'Nitrogen')\n",
        "#Aquí ya solo pedimos que se nos muestre ekl valor de nuestra variable\n",
        "rho"
      ],
      "metadata": {
        "id": "ZPXcrPGRJq_y",
        "outputId": "a9b79e77-7ed3-4ea8-a620-5d277c5457d1",
        "colab": {
          "base_uri": "https://localhost:8080/"
        }
      },
      "execution_count": 5,
      "outputs": [
        {
          "output_type": "execute_result",
          "data": {
            "text/plain": [
              "1.1452448929366679"
            ]
          },
          "metadata": {},
          "execution_count": 5
        }
      ]
    },
    {
      "cell_type": "code",
      "source": [
        "#La otra opción es mediante un <print>\n",
        "print(\"El valor de la densidad del nitrogeno a las propiedades dadas es de\", rho)"
      ],
      "metadata": {
        "id": "wLtI1_x5aBbG",
        "outputId": "a86b9b24-d8ad-4863-a861-d2e0cc2471e0",
        "colab": {
          "base_uri": "https://localhost:8080/"
        }
      },
      "execution_count": 6,
      "outputs": [
        {
          "output_type": "stream",
          "name": "stdout",
          "text": [
            "El valor de la densidad del nitrogeno a las propiedades dadas es de 1.1452448929366679\n"
          ]
        }
      ]
    },
    {
      "cell_type": "markdown",
      "source": [
        "#Como se mencionó anteriomente, mientras se siga la estructura de funcionamiento anteriomente mencionada será posible su uso para el calculo de diversas propiedades de cualquier sustancia."
      ],
      "metadata": {
        "id": "BWWZZdN6aF4N"
      }
    },
    {
      "cell_type": "markdown",
      "source": [
        "###Tal como se muestra a continuación, en donde se obtendrá la densidad del agua a 25 °C y 1 atm"
      ],
      "metadata": {
        "id": "n2qhzym-aotr"
      }
    },
    {
      "cell_type": "code",
      "source": [
        "#Aplicamos la misma estructura que el ejemplo anterior pero ahora cambiando\n",
        "#la sustancia, en este caso, agua\n",
        "PropsSI('D','T', 298.15,'P', 101325,'H2O')"
      ],
      "metadata": {
        "id": "lIfyLzcmabRc",
        "outputId": "c5ac78a0-7be9-47ab-92e8-e363ef99961a",
        "colab": {
          "base_uri": "https://localhost:8080/"
        }
      },
      "execution_count": 8,
      "outputs": [
        {
          "output_type": "execute_result",
          "data": {
            "text/plain": [
              "997.047636760347"
            ]
          },
          "metadata": {},
          "execution_count": 8
        }
      ]
    }
  ]
}