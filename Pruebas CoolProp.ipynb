{
  "nbformat": 4,
  "nbformat_minor": 0,
  "metadata": {
    "colab": {
      "provenance": [],
      "include_colab_link": true
    },
    "kernelspec": {
      "name": "python3",
      "display_name": "Python 3"
    },
    "language_info": {
      "name": "python"
    }
  },
  "cells": [
    {
      "cell_type": "markdown",
      "metadata": {
        "id": "view-in-github",
        "colab_type": "text"
      },
      "source": [
        "<a href=\"https://colab.research.google.com/github/BELMAN-EDCM/Modulos_SS/blob/main/Pruebas%20CoolProp.ipynb\" target=\"_parent\"><img src=\"https://colab.research.google.com/assets/colab-badge.svg\" alt=\"Open In Colab\"/></a>"
      ]
    },
    {
      "cell_type": "markdown",
      "source": [
        "**Se necesita instalar el módulo con la anterior linea de comando**"
      ],
      "metadata": {
        "id": "j-EGEij-C72s"
      }
    },
    {
      "cell_type": "code",
      "execution_count": null,
      "metadata": {
        "colab": {
          "base_uri": "https://localhost:8080/"
        },
        "id": "8dewg5Wkx6dE",
        "outputId": "daf05920-243c-4348-ad43-56942ca57bd8"
      },
      "outputs": [
        {
          "output_type": "stream",
          "name": "stdout",
          "text": [
            "Requirement already satisfied: CoolProp in /usr/local/lib/python3.10/dist-packages (6.4.3.post1)\n"
          ]
        }
      ],
      "source": [
        "pip install CoolProp"
      ]
    },
    {
      "cell_type": "markdown",
      "source": [
        "\n",
        "**Se importan las propiedades del módulo**"
      ],
      "metadata": {
        "id": "cH7LqT1t1Uoz"
      }
    },
    {
      "cell_type": "markdown",
      "source": [
        "Para conocer una propiedad lo que hacemos es utilizar la función \"PropsSI\""
      ],
      "metadata": {
        "id": "mWA7eDrtDdpa"
      }
    },
    {
      "cell_type": "code",
      "source": [
        "from CoolProp.CoolProp import PropsSI"
      ],
      "metadata": {
        "id": "mbiFLUhk1WUy"
      },
      "execution_count": null,
      "outputs": []
    },
    {
      "cell_type": "markdown",
      "source": [
        "Por ejemplo, para conocer la densidad del nitrogeno a 5 bar y 220 °C"
      ],
      "metadata": {
        "id": "kesR5XhX2OZV"
      }
    },
    {
      "cell_type": "markdown",
      "source": [
        "**La estructura para conocer la propiedad en especifico es la siguiente**\n",
        "\n",
        "\n",
        "1.   Comando \"PropsSI\", **SI proviene del sistema internacional, para el sistema inglés cambia**\n",
        "2.   *Dentro del parentesis*, primero se pone la propiedad que se quiere conocer, **Por ejemplo, Densidad (D) con comillas simples**\n",
        "3.   Se coloca la 1er propiedad conocida, **por ejemplo, Temperatura (T), de igual manera, con comillas simples**\n",
        "4.   Acompañado de la propiedad conocida, se coloca el valor de esta, **Sin comillas**\n",
        "5.    Se coloca la siguiente propiedad conocida repitiendo el paso 3 y 4\n",
        "6.    Por último, se coloca la formula de la sustancia a la que corresponde la propiedad a conocer"
      ],
      "metadata": {
        "id": "9w_mf2_0F8cC"
      }
    },
    {
      "cell_type": "code",
      "source": [
        "PropsSI('D','T',493.15,'P',5e5,'N2')"
      ],
      "metadata": {
        "colab": {
          "base_uri": "https://localhost:8080/"
        },
        "id": "AU5IbI7N2eHO",
        "outputId": "5fb95bc2-61d2-4bc6-d4ee-93bb271329d2"
      },
      "execution_count": null,
      "outputs": [
        {
          "output_type": "execute_result",
          "data": {
            "text/plain": [
              "3.4092681398009206"
            ]
          },
          "metadata": {},
          "execution_count": 15
        }
      ]
    }
  ]
}