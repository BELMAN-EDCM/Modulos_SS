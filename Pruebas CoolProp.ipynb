{
  "nbformat": 4,
  "nbformat_minor": 0,
  "metadata": {
    "colab": {
      "provenance": [],
      "include_colab_link": true
    },
    "kernelspec": {
      "name": "python3",
      "display_name": "Python 3"
    },
    "language_info": {
      "name": "python"
    }
  },
  "cells": [
    {
      "cell_type": "markdown",
      "metadata": {
        "id": "view-in-github",
        "colab_type": "text"
      },
      "source": [
        "<a href=\"https://colab.research.google.com/github/BELMAN-EDCM/Modulos_SS/blob/main/Pruebas%20CoolProp.ipynb\" target=\"_parent\"><img src=\"https://colab.research.google.com/assets/colab-badge.svg\" alt=\"Open In Colab\"/></a>"
      ]
    },
    {
      "cell_type": "markdown",
      "source": [
        "**Se necesita instalar el módulo con la anterior linea de comando**"
      ],
      "metadata": {
        "id": "j-EGEij-C72s"
      }
    },
    {
      "cell_type": "code",
      "execution_count": 11,
      "metadata": {
        "colab": {
          "base_uri": "https://localhost:8080/"
        },
        "id": "8dewg5Wkx6dE",
        "outputId": "daf05920-243c-4348-ad43-56942ca57bd8"
      },
      "outputs": [
        {
          "output_type": "stream",
          "name": "stdout",
          "text": [
            "Requirement already satisfied: CoolProp in /usr/local/lib/python3.10/dist-packages (6.4.3.post1)\n"
          ]
        }
      ],
      "source": [
        "pip install CoolProp"
      ]
    },
    {
      "cell_type": "markdown",
      "source": [
        "**Se importan las propiedades del módulo**"
      ],
      "metadata": {
        "id": "cH7LqT1t1Uoz"
      }
    },
    {
      "cell_type": "markdown",
      "source": [
        "Para conocer una propiedad lo que hacemos es utilizar la función \"PropsSI\""
      ],
      "metadata": {
        "id": "mWA7eDrtDdpa"
      }
    },
    {
      "cell_type": "code",
      "source": [
        "from CoolProp.CoolProp import PropsSI"
      ],
      "metadata": {
        "id": "mbiFLUhk1WUy"
      },
      "execution_count": 12,
      "outputs": []
    },
    {
      "cell_type": "markdown",
      "source": [
        "Por ejemplo, para conocer la densidad del agua a 5 bar y 220 °C"
      ],
      "metadata": {
        "id": "kesR5XhX2OZV"
      }
    },
    {
      "cell_type": "code",
      "source": [
        "PropsSI('D','T',493.15,'P',5e5,'N2')"
      ],
      "metadata": {
        "colab": {
          "base_uri": "https://localhost:8080/"
        },
        "id": "AU5IbI7N2eHO",
        "outputId": "5fb95bc2-61d2-4bc6-d4ee-93bb271329d2"
      },
      "execution_count": 15,
      "outputs": [
        {
          "output_type": "execute_result",
          "data": {
            "text/plain": [
              "3.4092681398009206"
            ]
          },
          "metadata": {},
          "execution_count": 15
        }
      ]
    }
  ]
}