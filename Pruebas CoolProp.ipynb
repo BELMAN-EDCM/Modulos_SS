{
  "nbformat": 4,
  "nbformat_minor": 0,
  "metadata": {
    "colab": {
      "provenance": [],
      "authorship_tag": "ABX9TyNPaJNAyfp6c1QKcHIhT32V",
      "include_colab_link": true
    },
    "kernelspec": {
      "name": "python3",
      "display_name": "Python 3"
    },
    "language_info": {
      "name": "python"
    }
  },
  "cells": [
    {
      "cell_type": "markdown",
      "metadata": {
        "id": "view-in-github",
        "colab_type": "text"
      },
      "source": [
        "<a href=\"https://colab.research.google.com/github/BELMAN-EDCM/Modulos_SS/blob/main/Pruebas%20CoolProp.ipynb\" target=\"_parent\"><img src=\"https://colab.research.google.com/assets/colab-badge.svg\" alt=\"Open In Colab\"/></a>"
      ]
    },
    {
      "cell_type": "code",
      "execution_count": 6,
      "metadata": {
        "colab": {
          "base_uri": "https://localhost:8080/"
        },
        "id": "8dewg5Wkx6dE",
        "outputId": "2d938394-1f4a-4b80-a144-c4762c9c156c"
      },
      "outputs": [
        {
          "output_type": "stream",
          "name": "stdout",
          "text": [
            "Looking in indexes: https://pypi.org/simple, https://us-python.pkg.dev/colab-wheels/public/simple/\n",
            "Requirement already satisfied: CoolProp in /usr/local/lib/python3.10/dist-packages (6.4.3.post1)\n"
          ]
        }
      ],
      "source": [
        "pip install CoolProp\n"
      ]
    },
    {
      "cell_type": "markdown",
      "source": [
        "Para conocer una propiedad lo que hacemos es utilizar la función \"PropsSI\""
      ],
      "metadata": {
        "id": "cH7LqT1t1Uoz"
      }
    },
    {
      "cell_type": "code",
      "source": [
        "from CoolProp.CoolProp import PropsSI\n"
      ],
      "metadata": {
        "id": "mbiFLUhk1WUy"
      },
      "execution_count": 7,
      "outputs": []
    },
    {
      "cell_type": "markdown",
      "source": [
        "Por ejemplo, para conocer la densidad del agua a 5 bar y 220 °C "
      ],
      "metadata": {
        "id": "kesR5XhX2OZV"
      }
    },
    {
      "cell_type": "code",
      "source": [
        "PropsSI('D','T',493.15,'P',5e5,'H2O')"
      ],
      "metadata": {
        "colab": {
          "base_uri": "https://localhost:8080/"
        },
        "id": "AU5IbI7N2eHO",
        "outputId": "79b8af19-4c40-4d5d-ea8f-9df9ace58a73"
      },
      "execution_count": 14,
      "outputs": [
        {
          "output_type": "execute_result",
          "data": {
            "text/plain": [
              "2.247203644645953"
            ]
          },
          "metadata": {},
          "execution_count": 14
        }
      ]
    }
  ]
}
