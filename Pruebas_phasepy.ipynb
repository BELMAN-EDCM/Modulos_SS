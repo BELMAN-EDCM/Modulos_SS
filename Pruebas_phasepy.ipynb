{
  "nbformat": 4,
  "nbformat_minor": 0,
  "metadata": {
    "colab": {
      "provenance": [],
      "authorship_tag": "ABX9TyPjAeLCex+yv3Llg1KXc4Ke",
      "include_colab_link": true
    },
    "kernelspec": {
      "name": "python3",
      "display_name": "Python 3"
    },
    "language_info": {
      "name": "python"
    }
  },
  "cells": [
    {
      "cell_type": "markdown",
      "metadata": {
        "id": "view-in-github",
        "colab_type": "text"
      },
      "source": [
        "<a href=\"https://colab.research.google.com/github/BELMAN-EDCM/Modulos_SS/blob/main/Pruebas_phasepy.ipynb\" target=\"_parent\"><img src=\"https://colab.research.google.com/assets/colab-badge.svg\" alt=\"Open In Colab\"/></a>"
      ]
    },
    {
      "cell_type": "markdown",
      "source": [
        "**Primero instalamos el módulo.**"
      ],
      "metadata": {
        "id": "-vnvgkCB0Jhh"
      }
    },
    {
      "cell_type": "code",
      "source": [
        "pip install phasepy"
      ],
      "metadata": {
        "colab": {
          "base_uri": "https://localhost:8080/"
        },
        "id": "wLUbLd9q0PRe",
        "outputId": "61b8292f-f972-4fae-f4b7-b942e1a6fa3d"
      },
      "execution_count": 5,
      "outputs": [
        {
          "output_type": "stream",
          "name": "stdout",
          "text": [
            "Requirement already satisfied: phasepy in /usr/local/lib/python3.10/dist-packages (0.0.51)\n",
            "Requirement already satisfied: numpy in /usr/local/lib/python3.10/dist-packages (from phasepy) (1.22.4)\n",
            "Requirement already satisfied: scipy in /usr/local/lib/python3.10/dist-packages (from phasepy) (1.10.1)\n",
            "Requirement already satisfied: pandas in /usr/local/lib/python3.10/dist-packages (from phasepy) (1.5.3)\n",
            "Requirement already satisfied: openpyxl in /usr/local/lib/python3.10/dist-packages (from phasepy) (3.0.10)\n",
            "Requirement already satisfied: et-xmlfile in /usr/local/lib/python3.10/dist-packages (from openpyxl->phasepy) (1.1.0)\n",
            "Requirement already satisfied: python-dateutil>=2.8.1 in /usr/local/lib/python3.10/dist-packages (from pandas->phasepy) (2.8.2)\n",
            "Requirement already satisfied: pytz>=2020.1 in /usr/local/lib/python3.10/dist-packages (from pandas->phasepy) (2022.7.1)\n",
            "Requirement already satisfied: six>=1.5 in /usr/local/lib/python3.10/dist-packages (from python-dateutil>=2.8.1->pandas->phasepy) (1.16.0)\n"
          ]
        }
      ]
    },
    {
      "cell_type": "markdown",
      "source": [
        "La función principal de este módulo es el calculo de coeficientes de fugacidad\n",
        "en distintos tipos de equilibrio mediante el uso de diferentes modelos ya sea para un componente o mezcla, por ejemplo:\n",
        "\n",
        "\n",
        "1.   Módelos discontinuos: *Redlich-Kister Expansion, UNIFAC, etc*\n",
        "2.   Ecuaciones de estado cubicas: *QMR mixing rule, MHV mixing rule, MHV1 mixing rule*"
      ],
      "metadata": {
        "id": "EtCgzn310eNA"
      }
    },
    {
      "cell_type": "code",
      "source": [
        "import numpy as np\n",
        "from phasepy import mixture, component, virialgamma, preos"
      ],
      "metadata": {
        "id": "xmwNfu592vMD"
      },
      "execution_count": 6,
      "outputs": []
    },
    {
      "cell_type": "code",
      "source": [
        "water = component(name='water', Tc=647.13, Pc=220.55, Zc=0.229, Vc=55.948, w=0.344861,\n",
        "                  Ant=[11.64785144, 3797.41566067, -46.77830444],\n",
        "                  GC={'H2O':1}, ri=0.92, qi=1.4)\n",
        "\n",
        "ethanol = component(name='ethanol', Tc=514.0, Pc=61.37, Zc=0.241, Vc=168.0, w=0.643558,\n",
        "                    Ant=[11.61809279, 3423.0259436, -56.48094263],\n",
        "                    GC={'CH3':1, 'CH2':1, 'OH(P)':1}, ri=2.1055, qi=1.972)\n",
        "\n",
        "print('Water saturation pressure at 373 K:', water.psat(T=373.0), 'bar')\n",
        "print('Water liquid molar volume at 310 K:', water.vlrackett(T=310.0), 'cm3/mol')\n",
        "print('Ethanol saturation pressure at 373 K:', ethanol.psat(T=373.0), 'bar')\n",
        "print('Ethanol liquid molar volume at 310 K:', ethanol.vlrackett(T=310.0), 'cm3/mol')"
      ],
      "metadata": {
        "colab": {
          "base_uri": "https://localhost:8080/"
        },
        "id": "vpGyU8De2vqC",
        "outputId": "8071612c-3432-4451-895a-a828212ed4b2"
      },
      "execution_count": 7,
      "outputs": [
        {
          "output_type": "stream",
          "name": "stdout",
          "text": [
            "Water saturation pressure at 373 K: 1.0072796747419537 bar\n",
            "Water liquid molar volume at 310 K: 16.46025809309672 cm3/mol\n",
            "Ethanol saturation pressure at 373 K: 2.233335305328437 bar\n",
            "Ethanol liquid molar volume at 310 K: 56.32856995891473 cm3/mol\n"
          ]
        }
      ]
    }
  ]
}