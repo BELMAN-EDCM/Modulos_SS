{
  "nbformat": 4,
  "nbformat_minor": 0,
  "metadata": {
    "colab": {
      "provenance": [],
      "authorship_tag": "ABX9TyPzaYl0cpDs2kDndQAKaZXD",
      "include_colab_link": true
    },
    "kernelspec": {
      "name": "python3",
      "display_name": "Python 3"
    },
    "language_info": {
      "name": "python"
    }
  },
  "cells": [
    {
      "cell_type": "markdown",
      "metadata": {
        "id": "view-in-github",
        "colab_type": "text"
      },
      "source": [
        "<a href=\"https://colab.research.google.com/github/BELMAN-EDCM/Modulos_SS/blob/main/Pruebas_phasepy.ipynb\" target=\"_parent\"><img src=\"https://colab.research.google.com/assets/colab-badge.svg\" alt=\"Open In Colab\"/></a>"
      ]
    },
    {
      "cell_type": "markdown",
      "source": [
        ">> # Phasepy"
      ],
      "metadata": {
        "id": "gl6ATiEISYNV"
      }
    },
    {
      "cell_type": "markdown",
      "source": [
        "Phasepy resulta en un módulo dentro del entorno de Python y el cual fue desarrolladó por el usuario $ gustavochm $ y cuya información puede ser encontrada en el siguiente vínculo: [Phasepy](https://github.com/gustavochm/phasepy).\n",
        "\n",
        "Esta herramienta se destaca por otorgar al usuario una diversa cantidad de herramientas para el cálculo de propiedades en sistemas de:\n",
        "1. > Equilibrio líquido - vapor.\n",
        "2. > Equilibrio líquido - líquido.\n",
        "3. > Equilibrio líquido - líquido - vapor.\n",
        "\n",
        "Además, una de las principales funciones de este módulo es el cálculo de coeficientes de actividad para fase líquida, lo anterior mediante el uso de distintos métodos, por ejemplo:\n",
        "1.  > Módelos discontinuos: *Redlich-Kister Expansion, UNIFAC, etc*\n",
        "2.  > Ecuaciones de estado cubicas: *QMR mixing rule, MHV mixing rule, MHV1 mixing rule*"
      ],
      "metadata": {
        "id": "M9uI8hMhScBg"
      }
    },
    {
      "cell_type": "markdown",
      "source": [
        "**Como primer paso, instalamos el módulo.**"
      ],
      "metadata": {
        "id": "-vnvgkCB0Jhh"
      }
    },
    {
      "cell_type": "code",
      "source": [
        "pip install phasepy"
      ],
      "metadata": {
        "id": "wLUbLd9q0PRe",
        "colab": {
          "base_uri": "https://localhost:8080/"
        },
        "outputId": "ad6a6aed-b6a0-48fd-9ad5-c4b437c50cbb"
      },
      "execution_count": 1,
      "outputs": [
        {
          "output_type": "stream",
          "name": "stdout",
          "text": [
            "Collecting phasepy\n",
            "  Downloading phasepy-0.0.52.tar.gz (227 kB)\n",
            "\u001b[?25l     \u001b[90m━━━━━━━━━━━━━━━━━━━━━━━━━━━━━━━━━━━━━━━━\u001b[0m \u001b[32m0.0/227.1 kB\u001b[0m \u001b[31m?\u001b[0m eta \u001b[36m-:--:--\u001b[0m\r\u001b[2K     \u001b[91m━━━━━━━━━━━━━━━━\u001b[0m\u001b[90m╺\u001b[0m\u001b[90m━━━━━━━━━━━━━━━━━━━━━━━\u001b[0m \u001b[32m92.2/227.1 kB\u001b[0m \u001b[31m2.6 MB/s\u001b[0m eta \u001b[36m0:00:01\u001b[0m\r\u001b[2K     \u001b[90m━━━━━━━━━━━━━━━━━━━━━━━━━━━━━━━━━━━━━━━\u001b[0m \u001b[32m227.1/227.1 kB\u001b[0m \u001b[31m3.7 MB/s\u001b[0m eta \u001b[36m0:00:00\u001b[0m\n",
            "\u001b[?25h  Preparing metadata (setup.py) ... \u001b[?25l\u001b[?25hdone\n",
            "Requirement already satisfied: numpy in /usr/local/lib/python3.10/dist-packages (from phasepy) (1.23.5)\n",
            "Requirement already satisfied: scipy in /usr/local/lib/python3.10/dist-packages (from phasepy) (1.10.1)\n",
            "Requirement already satisfied: pandas in /usr/local/lib/python3.10/dist-packages (from phasepy) (1.5.3)\n",
            "Requirement already satisfied: openpyxl in /usr/local/lib/python3.10/dist-packages (from phasepy) (3.0.10)\n",
            "Requirement already satisfied: et-xmlfile in /usr/local/lib/python3.10/dist-packages (from openpyxl->phasepy) (1.1.0)\n",
            "Requirement already satisfied: python-dateutil>=2.8.1 in /usr/local/lib/python3.10/dist-packages (from pandas->phasepy) (2.8.2)\n",
            "Requirement already satisfied: pytz>=2020.1 in /usr/local/lib/python3.10/dist-packages (from pandas->phasepy) (2022.7.1)\n",
            "Requirement already satisfied: six>=1.5 in /usr/local/lib/python3.10/dist-packages (from python-dateutil>=2.8.1->pandas->phasepy) (1.16.0)\n",
            "Building wheels for collected packages: phasepy\n",
            "  Building wheel for phasepy (setup.py) ... \u001b[?25l\u001b[?25hdone\n",
            "  Created wheel for phasepy: filename=phasepy-0.0.52-cp310-cp310-linux_x86_64.whl size=1401855 sha256=dd7ee560ca08d11acae4a0a5763033d70f061fbda69de0173ae0c21b343edd7b\n",
            "  Stored in directory: /root/.cache/pip/wheels/7a/82/80/62af925cecb018ea03d1659ce62eb4386e928988aa6682e726\n",
            "Successfully built phasepy\n",
            "Installing collected packages: phasepy\n",
            "Successfully installed phasepy-0.0.52\n"
          ]
        }
      ]
    },
    {
      "cell_type": "markdown",
      "source": [
        "**Posteriomente, importamos las herramientas de distintas librerias**"
      ],
      "metadata": {
        "id": "M9Ka0jHmVYIM"
      }
    },
    {
      "cell_type": "code",
      "source": [
        "#Como primer paso se importa la libreria NumPy que ofrece la facilidad de realizar determinados cálculos.\n",
        "import numpy as np"
      ],
      "metadata": {
        "id": "xmwNfu592vMD"
      },
      "execution_count": 2,
      "outputs": []
    },
    {
      "cell_type": "code",
      "source": [
        "#Como segundo paso se importan herramientas importantes del módulo correspondiente.\n",
        "from phasepy import mixture\n",
        "from phasepy import component\n",
        "from phasepy import virialgamma\n",
        "from phasepy import preos"
      ],
      "metadata": {
        "id": "eimpZ6vTFDdJ"
      },
      "execution_count": 3,
      "outputs": []
    },
    {
      "cell_type": "markdown",
      "source": [
        "##Una consideración importante es que para poder utilizar esta herramienta se necesita definir los componentes a utilizar, para ello se necesitan alimentar ciertas propiedades específicas, las cuales se mencionan a continuación (Las principales), de igual manera, su simbología dentro de phasePy:\n",
        ">*Temperatura crítica (Tc)*\n",
        "\n",
        ">*Presión crítica (Pc)*\n",
        "\n",
        ">*Compresibilidad crítica (Zc)*\n",
        "\n",
        ">*Volumen crítico (Vc)*\n",
        "\n",
        ">*Factor acéntrico (w)*\n",
        "\n",
        ">*Coeficientes de Antoine (Ant)*\n",
        "\n",
        ">*Contribución del grupo por el método UNIFAC modificado (GC)*\n",
        "\n",
        ">*Volumen molecular del método de UNIQUAC (ri)*\n",
        "\n",
        ">*Suerficie molecular del método de UNIQUAC (qi)*\n",
        "\n",
        ">*Temperatura reducida (Tr)*\n"
      ],
      "metadata": {
        "id": "RA_Ume8GFU4d"
      }
    },
    {
      "cell_type": "markdown",
      "source": [
        "### A continuación, se muestra un ejemplo de cálculo de presión de saturación para un compuesto, en este caso, el agua. ###"
      ],
      "metadata": {
        "id": "tUYbB4fQTf8l"
      }
    },
    {
      "cell_type": "code",
      "source": [
        "#Es necesario definir el compuesto a utilizar para posteriomente poderlo utilizar a lo largo del programa\n",
        "#Como ya se mencionó, se hará uso del agua.\n",
        "agua = component(name='agua', Tc=647.13, Pc=220.55, Zc=0.229, Vc=55.948, w=0.344861,\n",
        "#Los coeficientes de Antoine pueden ser los de tu referencia bibliografica favorita, por lo cual los resultados finales\n",
        "#cambiaran asi como las unidades de estos (Pa/bar) según el tipo de datos que sean alimentados (mmHg/K/°C)\n",
        "                  Ant=[11.64785144, 3797.41566067, -46.77830444],\n",
        "                  GC={'H2O':1}, ri=0.92, qi=1.4)\n",
        "#Los datos de contribución de grupo se encuentran en la siguiente liga <http://www.ddbst.com/PublishedParametersUNIFACDO.html#ListOfMainGroups>"
      ],
      "metadata": {
        "id": "vpGyU8De2vqC"
      },
      "execution_count": 4,
      "outputs": []
    },
    {
      "cell_type": "markdown",
      "source": [
        "###Por lo que si nosotros quisieramos conocer la presión de saturación de este componente a una determinada temperatura solo necesitamos pedirlo."
      ],
      "metadata": {
        "id": "Gfm08Vx-WTj8"
      }
    },
    {
      "cell_type": "code",
      "source": [
        "#Utilizamos la función ya integrada al módulo, la cual nos regresa el valor de la presión de saturación de nuestro compuesto\n",
        "#a una determinada temperatura, y la cual se invoca como <nombredelcompuesto.psat> (Utilizar el nombre con el que lo definiste).\n",
        "Psat1=agua.psat(T=400)\n",
        "print(\"La presión de saturación del agua a 400 K es\", Psat1, \"bar\")"
      ],
      "metadata": {
        "id": "eI405iXTWgjK",
        "outputId": "9a2f5c87-262d-4842-9b97-84c403d0c9ce",
        "colab": {
          "base_uri": "https://localhost:8080/"
        }
      },
      "execution_count": 5,
      "outputs": [
        {
          "output_type": "stream",
          "name": "stdout",
          "text": [
            "La presión de saturación del agua a 400 K es 2.452362504675583 bar\n"
          ]
        }
      ]
    },
    {
      "cell_type": "markdown",
      "source": [
        "### De igual manera, es posible conocer el volumen del liquido en cuestión gracias al uso de la ecuación de Rackett y la cual también se encuentra integrada."
      ],
      "metadata": {
        "id": "hWzkDgBxXt7v"
      }
    },
    {
      "cell_type": "code",
      "source": [
        "volumenA=agua.vlrackett(T=400)\n",
        "print(\"El volumen molar liquido del agua a 400 K es\", volumenA, \"cm3/mol\")"
      ],
      "metadata": {
        "id": "5brMW0rlVydH",
        "outputId": "0445799c-cbc4-4f07-bc76-d3b9619a0e95",
        "colab": {
          "base_uri": "https://localhost:8080/"
        }
      },
      "execution_count": 6,
      "outputs": [
        {
          "output_type": "stream",
          "name": "stdout",
          "text": [
            "El volumen molar liquido del agua a 400 K es 18.262148843435096 cm3/mol\n"
          ]
        }
      ]
    },
    {
      "cell_type": "markdown",
      "source": [
        "#Aquí se presenta otro ejemplo, ahora con el etanol"
      ],
      "metadata": {
        "id": "y05sR0RPcjhq"
      }
    },
    {
      "cell_type": "code",
      "source": [
        "#Repetimos alos mismos pasos:\n",
        "#Definimos el compuesto, alimentamos los datos y solicitamos la presión de saturación y el volumen líquido molar\n",
        "etanol = component(name='etanol', Tc=514.0, Pc=61.37, Zc=0.241, Vc=168.0, w=0.643558,\n",
        "                    Ant=[11.61809279, 3423.0259436, -56.48094263],\n",
        "                    GC={'CH3':1, 'CH2':1, 'OH(P)':1}, ri=2.1055, qi=1.972)\n",
        "Psat2=etanol.psat(T=400)\n",
        "print('La presión de saturación del etanol a 400 K es', etanol.psat(T=373.0), 'bar')\n",
        "volumenE=etanol.vlrackett(T=400)\n",
        "print('El volumen molar líquido del etanol a 400 K es', etanol.vlrackett(T=310.0), 'cm3/mol')"
      ],
      "metadata": {
        "id": "MJ8fE55NcrbP",
        "outputId": "9c14f42e-939f-4b85-d1e7-54b58db0e9cf",
        "colab": {
          "base_uri": "https://localhost:8080/"
        }
      },
      "execution_count": 7,
      "outputs": [
        {
          "output_type": "stream",
          "name": "stdout",
          "text": [
            "La presión de saturación del etanol a 400 K es 2.233335305328437 bar\n",
            "El volumen molar líquido del etanol a 400 K es 56.32856995891473 cm3/mol\n"
          ]
        }
      ]
    },
    {
      "cell_type": "markdown",
      "source": [
        ">>>> # Mezclas"
      ],
      "metadata": {
        "id": "pbq024Mmi7dr"
      }
    },
    {
      "cell_type": "markdown",
      "source": [
        "Así como permite el uso de sus funciones para componentes individuales, estas se pueden usar para mezclas, todo esto mediante el uso de la siguiente función, la cual le permitira crear la mezcla que usted desea:\n",
        "1. $mix$\n",
        "\n",
        "### Es importante mencionar que el anterior comando contiene algunas observaciones para su correcto uso, las cuales se mencionan a continuación:\n",
        "* Para añadir los componentes a la mezcla necesita hacer uso del simbolo \"+\".\n",
        "* Puede hacer uso de la función $mix$ en compañia del comando $mixture$, y en este caso, los componentes a agregar se colocarán en el parentesis de este último comando.\n",
        "*La función $mix$ no solo sirve para crear mexclas, tambien para proporcionar información de la misma, tal como puede ser: número de componentes, nombres, presiones de saturación y demás funciones presentes en este módulo.\n",
        "\n",
        "Lo anterior será de gran ayuda para analizar los sistemas binarios o ternarios que se presentan en diferentes ámbitos.\n",
        "\n",
        "Para permitir una mejor comprensión, se procederá a realizar un ejemplo de las consideraciones anteriomente mencionadas."
      ],
      "metadata": {
        "id": "MKGDBlpmjOGY"
      }
    },
    {
      "cell_type": "code",
      "source": [
        "#Primero, haremos uso de la función <mix> de forma individual para formar una mezcla ampliamente vista en la industria, etanol - agua.\n",
        "#Lo anterior aprovechando que ambos componentes ya fueron descritos en el presente archivo (En términos de propiedades)\n",
        "mix=etanol+agua\n",
        "#Usamos la última observación de la función para comprobar si se creo de forma correcta la mezcla.\n",
        "print(\"Los componentes de la mezcla son:\", mix.names)"
      ],
      "metadata": {
        "id": "2p3pcaUJlV7Q",
        "colab": {
          "base_uri": "https://localhost:8080/"
        },
        "outputId": "cfd49ea7-79cd-4782-8214-c33db68e007b"
      },
      "execution_count": 11,
      "outputs": [
        {
          "output_type": "stream",
          "name": "stdout",
          "text": [
            "Los componentes de la mezcla son: ['etanol', 'agua']\n"
          ]
        }
      ]
    },
    {
      "cell_type": "code",
      "source": [
        "#Ahora realizamos lo mismo pero con el comando <mixture>.\n",
        "mix1=mixture(etanol, agua)\n",
        "print(\"Los componentes de la mezcla son:\", mix1.names)"
      ],
      "metadata": {
        "colab": {
          "base_uri": "https://localhost:8080/"
        },
        "id": "7V1lTt_7uhDU",
        "outputId": "22549627-0536-4797-eb0f-6b4e12fcf114"
      },
      "execution_count": 12,
      "outputs": [
        {
          "output_type": "stream",
          "name": "stdout",
          "text": [
            "Los componentes de la mezcla son: ['etanol', 'agua']\n"
          ]
        }
      ]
    }
  ]
}