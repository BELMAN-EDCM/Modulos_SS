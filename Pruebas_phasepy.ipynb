{
  "nbformat": 4,
  "nbformat_minor": 0,
  "metadata": {
    "colab": {
      "provenance": [],
      "authorship_tag": "ABX9TyPiloDvsTrqYqJwFByMWexz",
      "include_colab_link": true
    },
    "kernelspec": {
      "name": "python3",
      "display_name": "Python 3"
    },
    "language_info": {
      "name": "python"
    }
  },
  "cells": [
    {
      "cell_type": "markdown",
      "metadata": {
        "id": "view-in-github",
        "colab_type": "text"
      },
      "source": [
        "<a href=\"https://colab.research.google.com/github/BELMAN-EDCM/Modulos_SS/blob/main/Pruebas_phasepy.ipynb\" target=\"_parent\"><img src=\"https://colab.research.google.com/assets/colab-badge.svg\" alt=\"Open In Colab\"/></a>"
      ]
    },
    {
      "cell_type": "markdown",
      "source": [
        "**Primero instalamos el módulo.**"
      ],
      "metadata": {
        "id": "-vnvgkCB0Jhh"
      }
    },
    {
      "cell_type": "code",
      "source": [
        "pip install phasepy"
      ],
      "metadata": {
        "id": "wLUbLd9q0PRe"
      },
      "execution_count": null,
      "outputs": []
    },
    {
      "cell_type": "markdown",
      "source": [
        "#La función principal de este módulo es el calculo de coeficientes de fugacidad en distintos tipos de equilibrio mediante el uso de diferentes modelos ya sea para un componente o mezcla, por ejemplo:#\n",
        "\n",
        "\n",
        "1.   Módelos discontinuos: *Redlich-Kister Expansion, UNIFAC, etc*\n",
        "2.   Ecuaciones de estado cubicas: *QMR mixing rule, MHV mixing rule, MHV1 mixing rule*"
      ],
      "metadata": {
        "id": "EtCgzn310eNA"
      }
    },
    {
      "cell_type": "code",
      "source": [
        "#Como primer paso se importa la libreria NumPy que ofrece la facilidad de realizar determinados cálculos.\n",
        "import numpy as np"
      ],
      "metadata": {
        "id": "xmwNfu592vMD"
      },
      "execution_count": 2,
      "outputs": []
    },
    {
      "cell_type": "code",
      "source": [
        "#Como segundo paso se importan herramientas importantes del módulo correspondiente.\n",
        "from phasepy import mixture\n",
        "from phasepy import component\n",
        "from phasepy import virialgamma\n",
        "from phasepy import preos"
      ],
      "metadata": {
        "id": "eimpZ6vTFDdJ"
      },
      "execution_count": 3,
      "outputs": []
    },
    {
      "cell_type": "markdown",
      "source": [
        "##Una consideración importante es que para poder utilizar esta herramienta se necesita definir los componentes a utilizar, para ello se necesitan alimentar ciertas propiedades específicas, las cuales se mencionan a continuación (Las principales), de igual manera, su simbología dentro de phasePy:\n",
        ">*Temperatura crítica (Tc)*\n",
        "\n",
        ">*Presión crítica (Pc)*\n",
        "\n",
        ">*Compresibilidad crítica (Zc)*\n",
        "\n",
        ">*Volumen crítico (Vc)*\n",
        "\n",
        ">*Factor acéntrico (w)*\n",
        "\n",
        ">*Coeficientes de Antoine (Ant)*\n",
        "\n",
        ">*Contribución del grupo por el método UNIFAC modificado (GC)*\n",
        "\n",
        ">*Volumen molecular del método de UNIQUAC (ri)*\n",
        "\n",
        ">*Suerficie molecular del método de UNIQUAC (qi)*\n",
        "\n",
        ">*Temperatura reducida (Tr)*\n"
      ],
      "metadata": {
        "id": "RA_Ume8GFU4d"
      }
    },
    {
      "cell_type": "markdown",
      "source": [
        "### A continuación, se muestra un ejemplo de cálculo de presión de saturación para un compuesto, en este caso, el agua. ###"
      ],
      "metadata": {
        "id": "tUYbB4fQTf8l"
      }
    },
    {
      "cell_type": "code",
      "source": [
        "#Es necesario definir el compuesto a utilizar para posteriomente poderlo utilizar a lo largo del programa\n",
        "#Como ya se mencionó, se hará uso del agua.\n",
        "agua = component(name='agua', Tc=647.13, Pc=220.55, Zc=0.229, Vc=55.948, w=0.344861,\n",
        "                  Ant=[11.64785144, 3797.41566067, -46.77830444],\n",
        "                  GC={'H2O':1}, ri=0.92, qi=1.4)"
      ],
      "metadata": {
        "id": "vpGyU8De2vqC"
      },
      "execution_count": 17,
      "outputs": []
    },
    {
      "cell_type": "markdown",
      "source": [
        "###Por lo que si nosotros quisieramos conocer la presión de saturación de este componente a una determinada temperatura solo necesitamos pedirlo."
      ],
      "metadata": {
        "id": "Gfm08Vx-WTj8"
      }
    },
    {
      "cell_type": "code",
      "source": [
        "#Aquí podemos utilizar una función ya integrada al módulo, la cual nos regresa el valor de la presión de saturación de nuestro compuesto\n",
        "#a una determinada temperatura, y la cual se invoca como nombredelcompuesto.psat (Utilizar el nombre con el que lo definiste).\n",
        "Psat1=agua.psat(T=400)\n",
        "print(\"La presión de saturación del agua a 400 K es\", Psat1, \"bar\")"
      ],
      "metadata": {
        "id": "eI405iXTWgjK",
        "outputId": "ba65ac53-f3f8-4737-a0fc-c03dda09114a",
        "colab": {
          "base_uri": "https://localhost:8080/"
        }
      },
      "execution_count": 25,
      "outputs": [
        {
          "output_type": "stream",
          "name": "stdout",
          "text": [
            "La presión de saturación del agua a 400 K es 2.452362504675583 bar\n"
          ]
        }
      ]
    },
    {
      "cell_type": "markdown",
      "source": [
        "### De igual manera, es posible conocer el volumen del liquido en cuestión gracias al uso de la ecuación de Rackett y la cual también se ecnuentra integrada."
      ],
      "metadata": {
        "id": "hWzkDgBxXt7v"
      }
    },
    {
      "cell_type": "code",
      "source": [
        "etanol = component(name='etanol', Tc=514.0, Pc=61.37, Zc=0.241, Vc=168.0, w=0.643558,\n",
        "                    Ant=[11.61809279, 3423.0259436, -56.48094263],\n",
        "                    GC={'CH3':1, 'CH2':1, 'OH(P)':1}, ri=2.1055, qi=1.972)\n",
        "\n",
        "print('Water liquid molar volume at 310 K:', agua.vlrackett(T=310.0), 'cm3/mol')\n",
        "print('Ethanol saturation pressure at 373 K:', etanol.psat(T=373.0), 'bar')\n",
        "print('Ethanol liquid molar volume at 310 K:', etanol.vlrackett(T=310.0), 'cm3/mol')"
      ],
      "metadata": {
        "id": "5brMW0rlVydH",
        "outputId": "93cfa410-7d8d-44bc-d91b-532bbecb2739",
        "colab": {
          "base_uri": "https://localhost:8080/"
        }
      },
      "execution_count": 14,
      "outputs": [
        {
          "output_type": "stream",
          "name": "stdout",
          "text": [
            "Water saturation pressure at 373 K: 1.0072796747419537 bar\n",
            "Water liquid molar volume at 310 K: 16.46025809309672 cm3/mol\n",
            "Ethanol saturation pressure at 373 K: 2.233335305328437 bar\n",
            "Ethanol liquid molar volume at 310 K: 56.32856995891473 cm3/mol\n"
          ]
        }
      ]
    }
  ]
}