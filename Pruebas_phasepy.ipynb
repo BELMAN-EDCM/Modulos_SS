{
  "nbformat": 4,
  "nbformat_minor": 0,
  "metadata": {
    "colab": {
      "provenance": [],
      "authorship_tag": "ABX9TyOmjtjxsNPNDMv93fo+mBSP",
      "include_colab_link": true
    },
    "kernelspec": {
      "name": "python3",
      "display_name": "Python 3"
    },
    "language_info": {
      "name": "python"
    }
  },
  "cells": [
    {
      "cell_type": "markdown",
      "metadata": {
        "id": "view-in-github",
        "colab_type": "text"
      },
      "source": [
        "<a href=\"https://colab.research.google.com/github/BELMAN-EDCM/Modulos_SS/blob/main/Pruebas_phasepy.ipynb\" target=\"_parent\"><img src=\"https://colab.research.google.com/assets/colab-badge.svg\" alt=\"Open In Colab\"/></a>"
      ]
    },
    {
      "cell_type": "markdown",
      "source": [
        "**Primero instalamos el módulo.**"
      ],
      "metadata": {
        "id": "-vnvgkCB0Jhh"
      }
    },
    {
      "cell_type": "code",
      "source": [
        "pip install phasepy"
      ],
      "metadata": {
        "id": "wLUbLd9q0PRe",
        "outputId": "744224ba-c97f-4524-cb86-ae87d36dd206",
        "colab": {
          "base_uri": "https://localhost:8080/"
        }
      },
      "execution_count": 1,
      "outputs": [
        {
          "output_type": "stream",
          "name": "stdout",
          "text": [
            "Collecting phasepy\n",
            "  Downloading phasepy-0.0.51.tar.gz (222 kB)\n",
            "\u001b[2K     \u001b[90m━━━━━━━━━━━━━━━━━━━━━━━━━━━━━━━━━━━━━━━\u001b[0m \u001b[32m222.4/222.4 kB\u001b[0m \u001b[31m5.4 MB/s\u001b[0m eta \u001b[36m0:00:00\u001b[0m\n",
            "\u001b[?25h  Preparing metadata (setup.py) ... \u001b[?25l\u001b[?25hdone\n",
            "Requirement already satisfied: numpy in /usr/local/lib/python3.10/dist-packages (from phasepy) (1.22.4)\n",
            "Requirement already satisfied: scipy in /usr/local/lib/python3.10/dist-packages (from phasepy) (1.10.1)\n",
            "Requirement already satisfied: pandas in /usr/local/lib/python3.10/dist-packages (from phasepy) (1.5.3)\n",
            "Requirement already satisfied: openpyxl in /usr/local/lib/python3.10/dist-packages (from phasepy) (3.0.10)\n",
            "Requirement already satisfied: et-xmlfile in /usr/local/lib/python3.10/dist-packages (from openpyxl->phasepy) (1.1.0)\n",
            "Requirement already satisfied: python-dateutil>=2.8.1 in /usr/local/lib/python3.10/dist-packages (from pandas->phasepy) (2.8.2)\n",
            "Requirement already satisfied: pytz>=2020.1 in /usr/local/lib/python3.10/dist-packages (from pandas->phasepy) (2022.7.1)\n",
            "Requirement already satisfied: six>=1.5 in /usr/local/lib/python3.10/dist-packages (from python-dateutil>=2.8.1->pandas->phasepy) (1.16.0)\n",
            "Building wheels for collected packages: phasepy\n",
            "  Building wheel for phasepy (setup.py) ... \u001b[?25l\u001b[?25hdone\n",
            "  Created wheel for phasepy: filename=phasepy-0.0.51-cp310-cp310-linux_x86_64.whl size=1559260 sha256=ca5de7915adccd884b525bce6add15b37762ac9449d7cd2c5d7fa952bd8a1a97\n",
            "  Stored in directory: /root/.cache/pip/wheels/03/be/26/603c98927288957d0dbe1e5c6acecebda94c4c5d76cd24bfae\n",
            "Successfully built phasepy\n",
            "Installing collected packages: phasepy\n",
            "Successfully installed phasepy-0.0.51\n"
          ]
        }
      ]
    },
    {
      "cell_type": "markdown",
      "source": [
        "#La función principal de este módulo es el calculo de coeficientes de fugacidad en distintos tipos de equilibrio mediante el uso de diferentes modelos ya sea para un componente o mezcla, por ejemplo:#\n",
        "\n",
        "\n",
        "1.   Módelos discontinuos: *Redlich-Kister Expansion, UNIFAC, etc*\n",
        "2.   Ecuaciones de estado cubicas: *QMR mixing rule, MHV mixing rule, MHV1 mixing rule*"
      ],
      "metadata": {
        "id": "EtCgzn310eNA"
      }
    },
    {
      "cell_type": "code",
      "source": [
        "#Como primer paso se importa la libreria NumPy que ofrece la facilidad de realizar determinados cálculos.\n",
        "import numpy as np"
      ],
      "metadata": {
        "id": "xmwNfu592vMD"
      },
      "execution_count": 2,
      "outputs": []
    },
    {
      "cell_type": "code",
      "source": [
        "#Como segundo paso se importan herramientas importantes del módulo correspondiente.\n",
        "from phasepy import mixture\n",
        "from phasepy import component\n",
        "from phasepy import virialgamma\n",
        "from phasepy import preos"
      ],
      "metadata": {
        "id": "eimpZ6vTFDdJ"
      },
      "execution_count": 17,
      "outputs": []
    },
    {
      "cell_type": "markdown",
      "source": [
        "##A continuación se muestra un ejemplo del uso de esta herramienta##"
      ],
      "metadata": {
        "id": "RA_Ume8GFU4d"
      }
    },
    {
      "cell_type": "markdown",
      "source": [
        "Para conocer las propiedades de un algún componente en específico lo unico que necesitamos es poner el nombre del componente seguido por un signo igual"
      ],
      "metadata": {
        "id": "tUYbB4fQTf8l"
      }
    },
    {
      "cell_type": "code",
      "source": [
        "water = component(name='water', Tc=647.13, Pc=220.55, Zc=0.229, Vc=55.948, w=0.344861,\n",
        "                  Ant=[11.64785144, 3797.41566067, -46.77830444],\n",
        "                  GC={'H2O':1}, ri=0.92, qi=1.4)\n",
        "\n",
        "ethanol = component(name='ethanol', Tc=514.0, Pc=61.37, Zc=0.241, Vc=168.0, w=0.643558,\n",
        "                    Ant=[11.61809279, 3423.0259436, -56.48094263],\n",
        "                    GC={'CH3':1, 'CH2':1, 'OH(P)':1}, ri=2.1055, qi=1.972)\n",
        "\n",
        "print('Water saturation pressure at 373 K:', water.psat(T=373.0), 'bar')\n",
        "print('Water liquid molar volume at 310 K:', water.vlrackett(T=310.0), 'cm3/mol')\n",
        "print('Ethanol saturation pressure at 373 K:', ethanol.psat(T=373.0), 'bar')\n",
        "print('Ethanol liquid molar volume at 310 K:', ethanol.vlrackett(T=310.0), 'cm3/mol')"
      ],
      "metadata": {
        "colab": {
          "base_uri": "https://localhost:8080/"
        },
        "id": "vpGyU8De2vqC",
        "outputId": "1253a6b3-4143-401e-ad22-548e1dfd2979"
      },
      "execution_count": 18,
      "outputs": [
        {
          "output_type": "stream",
          "name": "stdout",
          "text": [
            "Water saturation pressure at 373 K: 1.0072796747419537 bar\n",
            "Water liquid molar volume at 310 K: 16.46025809309672 cm3/mol\n",
            "Ethanol saturation pressure at 373 K: 2.233335305328437 bar\n",
            "Ethanol liquid molar volume at 310 K: 56.32856995891473 cm3/mol\n"
          ]
        }
      ]
    }
  ]
}