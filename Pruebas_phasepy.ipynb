{
  "nbformat": 4,
  "nbformat_minor": 0,
  "metadata": {
    "colab": {
      "provenance": [],
      "authorship_tag": "ABX9TyMLM1vonvnYleJReHpGzhSg",
      "include_colab_link": true
    },
    "kernelspec": {
      "name": "python3",
      "display_name": "Python 3"
    },
    "language_info": {
      "name": "python"
    }
  },
  "cells": [
    {
      "cell_type": "markdown",
      "metadata": {
        "id": "view-in-github",
        "colab_type": "text"
      },
      "source": [
        "<a href=\"https://colab.research.google.com/github/BELMAN-EDCM/Modulos_SS/blob/main/Pruebas_phasepy.ipynb\" target=\"_parent\"><img src=\"https://colab.research.google.com/assets/colab-badge.svg\" alt=\"Open In Colab\"/></a>"
      ]
    },
    {
      "cell_type": "markdown",
      "source": [
        "**Primero instalamos el módulo.**"
      ],
      "metadata": {
        "id": "-vnvgkCB0Jhh"
      }
    },
    {
      "cell_type": "code",
      "source": [
        "pip install phasepy"
      ],
      "metadata": {
        "id": "wLUbLd9q0PRe",
        "colab": {
          "base_uri": "https://localhost:8080/"
        },
        "outputId": "2362c90b-88fb-420e-abca-122347577c32"
      },
      "execution_count": 1,
      "outputs": [
        {
          "output_type": "stream",
          "name": "stdout",
          "text": [
            "Collecting phasepy\n",
            "  Downloading phasepy-0.0.51.tar.gz (222 kB)\n",
            "\u001b[2K     \u001b[90m━━━━━━━━━━━━━━━━━━━━━━━━━━━━━━━━━━━━━━━\u001b[0m \u001b[32m222.4/222.4 kB\u001b[0m \u001b[31m5.6 MB/s\u001b[0m eta \u001b[36m0:00:00\u001b[0m\n",
            "\u001b[?25h  Preparing metadata (setup.py) ... \u001b[?25l\u001b[?25hdone\n",
            "Requirement already satisfied: numpy in /usr/local/lib/python3.10/dist-packages (from phasepy) (1.22.4)\n",
            "Requirement already satisfied: scipy in /usr/local/lib/python3.10/dist-packages (from phasepy) (1.10.1)\n",
            "Requirement already satisfied: pandas in /usr/local/lib/python3.10/dist-packages (from phasepy) (1.5.3)\n",
            "Requirement already satisfied: openpyxl in /usr/local/lib/python3.10/dist-packages (from phasepy) (3.0.10)\n",
            "Requirement already satisfied: et-xmlfile in /usr/local/lib/python3.10/dist-packages (from openpyxl->phasepy) (1.1.0)\n",
            "Requirement already satisfied: python-dateutil>=2.8.1 in /usr/local/lib/python3.10/dist-packages (from pandas->phasepy) (2.8.2)\n",
            "Requirement already satisfied: pytz>=2020.1 in /usr/local/lib/python3.10/dist-packages (from pandas->phasepy) (2022.7.1)\n",
            "Requirement already satisfied: six>=1.5 in /usr/local/lib/python3.10/dist-packages (from python-dateutil>=2.8.1->pandas->phasepy) (1.16.0)\n",
            "Building wheels for collected packages: phasepy\n",
            "  Building wheel for phasepy (setup.py) ... \u001b[?25l\u001b[?25hdone\n",
            "  Created wheel for phasepy: filename=phasepy-0.0.51-cp310-cp310-linux_x86_64.whl size=1559296 sha256=43e58405bcd1f3f04704ae6b86471d2ff501b91ec566ac6a2100fc1bc45d14d0\n",
            "  Stored in directory: /root/.cache/pip/wheels/03/be/26/603c98927288957d0dbe1e5c6acecebda94c4c5d76cd24bfae\n",
            "Successfully built phasepy\n",
            "Installing collected packages: phasepy\n",
            "Successfully installed phasepy-0.0.51\n"
          ]
        }
      ]
    },
    {
      "cell_type": "markdown",
      "source": [
        "#La función principal de este módulo es el calculo de coeficientes de fugacidad en distintos tipos de equilibrio mediante el uso de diferentes modelos ya sea para un componente o mezcla, por ejemplo:#\n",
        "\n",
        "\n",
        "1.   Módelos discontinuos: *Redlich-Kister Expansion, UNIFAC, etc*\n",
        "2.   Ecuaciones de estado cubicas: *QMR mixing rule, MHV mixing rule, MHV1 mixing rule*"
      ],
      "metadata": {
        "id": "EtCgzn310eNA"
      }
    },
    {
      "cell_type": "code",
      "source": [
        "#Como primer paso se importa la libreria NumPy que ofrece la facilidad de realizar determinados cálculos.\n",
        "import numpy as np"
      ],
      "metadata": {
        "id": "xmwNfu592vMD"
      },
      "execution_count": 2,
      "outputs": []
    },
    {
      "cell_type": "code",
      "source": [
        "#Como segundo paso se importan herramientas importantes del módulo correspondiente.\n",
        "from phasepy import mixture\n",
        "from phasepy import component\n",
        "from phasepy import virialgamma\n",
        "from phasepy import preos"
      ],
      "metadata": {
        "id": "eimpZ6vTFDdJ"
      },
      "execution_count": 3,
      "outputs": []
    },
    {
      "cell_type": "markdown",
      "source": [
        "##Una consideración importante es que para poder utilizar esta herramienta se necesita definir los componentes a utilizar, para ello se necesitan alimentar ciertas propiedades específicas, las cuales se mencionan a continuación (Las principales), de igual manera, su simbología dentro de phasePy:\n",
        ">*Temperatura crítica (Tc)*\n",
        "\n",
        ">*Presión crítica (Pc)*\n",
        "\n",
        ">*Compresibilidad crítica (Zc)*\n",
        "\n",
        ">*Volumen crítico (Vc)*\n",
        "\n",
        ">*Factor acéntrico (w)*\n",
        "\n",
        ">*Coeficientes de Antoine (Ant)*\n",
        "\n",
        ">*Contribución del grupo por el método UNIFAC modificado (GC)*\n",
        "\n",
        ">*Volumen molecular del método de UNIQUAC (ri)*\n",
        "\n",
        ">*Suerficie molecular del método de UNIQUAC (qi)*\n",
        "\n",
        ">*Temperatura reducida (Tr)*\n"
      ],
      "metadata": {
        "id": "RA_Ume8GFU4d"
      }
    },
    {
      "cell_type": "markdown",
      "source": [
        "### A continuación, se muestra un ejemplo de cálculo de presión de saturación para un compuesto, en este caso, el agua. ###"
      ],
      "metadata": {
        "id": "tUYbB4fQTf8l"
      }
    },
    {
      "cell_type": "code",
      "source": [
        "#Es necesario definir el compuesto a utilizar para posteriomente poderlo utilizar a lo largo del programa\n",
        "#Como ya se mencionó, se hará uso del agua.\n",
        "agua = component(name='agua', Tc=647.13, Pc=220.55, Zc=0.229, Vc=55.948, w=0.344861,\n",
        "#Los coeficientes de Antoine pueden ser los de tu referencia bibliografica favorita, por lo cual los resultados finales\n",
        "#cambiaran asi como las unidades de estos (Pa/bar) según el tipo de datos que sean alimentados (mmHg/K/°C)\n",
        "                  Ant=[11.64785144, 3797.41566067, -46.77830444],\n",
        "                  GC={'H2O':1}, ri=0.92, qi=1.4)\n",
        "#Los datos de contribución de grupo se encuentran en la siguiente liga <http://www.ddbst.com/PublishedParametersUNIFACDO.html#ListOfMainGroups>"
      ],
      "metadata": {
        "id": "vpGyU8De2vqC"
      },
      "execution_count": 11,
      "outputs": []
    },
    {
      "cell_type": "markdown",
      "source": [
        "###Por lo que si nosotros quisieramos conocer la presión de saturación de este componente a una determinada temperatura solo necesitamos pedirlo."
      ],
      "metadata": {
        "id": "Gfm08Vx-WTj8"
      }
    },
    {
      "cell_type": "code",
      "source": [
        "#Utilizamos la función ya integrada al módulo, la cual nos regresa el valor de la presión de saturación de nuestro compuesto\n",
        "#a una determinada temperatura, y la cual se invoca como <nombredelcompuesto.psat> (Utilizar el nombre con el que lo definiste).\n",
        "Psat1=agua.psat(T=400)\n",
        "print(\"La presión de saturación del agua a 400 K es\", Psat1, \"bar\")"
      ],
      "metadata": {
        "id": "eI405iXTWgjK",
        "outputId": "a0fd4b46-8061-4043-c63f-0907f9b1b939",
        "colab": {
          "base_uri": "https://localhost:8080/"
        }
      },
      "execution_count": 10,
      "outputs": [
        {
          "output_type": "stream",
          "name": "stdout",
          "text": [
            "La presión de saturación del agua a 400 K es 162754.79141900392 bar\n"
          ]
        }
      ]
    },
    {
      "cell_type": "markdown",
      "source": [
        "### De igual manera, es posible conocer el volumen del liquido en cuestión gracias al uso de la ecuación de Rackett y la cual también se encuentra integrada."
      ],
      "metadata": {
        "id": "hWzkDgBxXt7v"
      }
    },
    {
      "cell_type": "code",
      "source": [
        "volumenA=agua.vlrackett(T=400)\n",
        "print(\"El volumen molar liquido del agua a 400 K es\", volumenA, \"cm3/mol\")"
      ],
      "metadata": {
        "id": "5brMW0rlVydH",
        "outputId": "cf4e625b-80d7-4aef-aa31-ff32ec9a9048",
        "colab": {
          "base_uri": "https://localhost:8080/"
        }
      },
      "execution_count": 13,
      "outputs": [
        {
          "output_type": "stream",
          "name": "stdout",
          "text": [
            "El volumen molar liquido del agua a 400 K es 18.262148843435096 cm3/mol\n"
          ]
        }
      ]
    },
    {
      "cell_type": "markdown",
      "source": [
        "#Aquí se presenta otro ejemplo, ahora con el atanol"
      ],
      "metadata": {
        "id": "y05sR0RPcjhq"
      }
    },
    {
      "cell_type": "code",
      "source": [
        "#Repetimos alos mismos pasos:\n",
        "#Definimos el compuesto, alimentamos los datos y solicitamos la presión de saturación y el volumen líquido molar\n",
        "etanol = component(name='etanol', Tc=514.0, Pc=61.37, Zc=0.241, Vc=168.0, w=0.643558,\n",
        "                    Ant=[11.61809279, 3423.0259436, -56.48094263],\n",
        "                    GC={'CH3':1, 'CH2':1, 'OH(P)':1}, ri=2.1055, qi=1.972)\n",
        "Psat2=etanol.psat(T=400)\n",
        "print('La presión de saturación del etanol a 400 K es', etanol.psat(T=373.0), 'bar')\n",
        "volumenE=etanol.vlrackett(T=400)\n",
        "print('El volumen molar líquido del etanol a 400 K es', etanol.vlrackett(T=310.0), 'cm3/mol')"
      ],
      "metadata": {
        "id": "MJ8fE55NcrbP",
        "outputId": "c82dffdb-4ed2-4579-9c55-f8a966017208",
        "colab": {
          "base_uri": "https://localhost:8080/"
        }
      },
      "execution_count": 15,
      "outputs": [
        {
          "output_type": "stream",
          "name": "stdout",
          "text": [
            "La presión de saturación del etanol a 400 K es 2.233335305328437 bar\n",
            "El volumen molar líquido del etanol a 400 K es 56.32856995891473 cm3/mol\n"
          ]
        }
      ]
    }
  ]
}