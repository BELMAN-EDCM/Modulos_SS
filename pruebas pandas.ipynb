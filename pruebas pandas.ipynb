{
 "cells": [
  {
   "cell_type": "code",
   "execution_count": 1,
   "id": "3babae01-21ee-403b-822f-6e63ce357d9d",
   "metadata": {
    "tags": []
   },
   "outputs": [
    {
     "name": "stdout",
     "output_type": "stream",
     "text": [
      "Requirement already satisfied: pandas in /srv/conda/envs/notebook/lib/python3.10/site-packages (2.0.3)\n",
      "Requirement already satisfied: python-dateutil>=2.8.2 in /srv/conda/envs/notebook/lib/python3.10/site-packages (from pandas) (2.8.2)\n",
      "Requirement already satisfied: pytz>=2020.1 in /srv/conda/envs/notebook/lib/python3.10/site-packages (from pandas) (2023.3)\n",
      "Requirement already satisfied: tzdata>=2022.1 in /srv/conda/envs/notebook/lib/python3.10/site-packages (from pandas) (2023.3)\n",
      "Requirement already satisfied: numpy>=1.21.0 in /srv/conda/envs/notebook/lib/python3.10/site-packages (from pandas) (1.25.2)\n",
      "Requirement already satisfied: six>=1.5 in /srv/conda/envs/notebook/lib/python3.10/site-packages (from python-dateutil>=2.8.2->pandas) (1.16.0)\n",
      "Note: you may need to restart the kernel to use updated packages.\n"
     ]
    }
   ],
   "source": [
    "pip install pandas"
   ]
  },
  {
   "cell_type": "code",
   "execution_count": 2,
   "id": "afc8cbfd-1a1a-4ea1-bf15-8f554b8b484d",
   "metadata": {
    "tags": []
   },
   "outputs": [],
   "source": [
    "import pandas as pd"
   ]
  },
  {
   "cell_type": "code",
   "execution_count": 3,
   "id": "4489db74-cc18-4bc2-98be-3a7f5b5e9089",
   "metadata": {
    "tags": []
   },
   "outputs": [
    {
     "name": "stdout",
     "output_type": "stream",
     "text": [
      "Package                       Version\n",
      "----------------------------- -----------\n",
      "aiofiles                      22.1.0\n",
      "aiosqlite                     0.19.0\n",
      "alembic                       1.11.1\n",
      "anyio                         3.7.0\n",
      "argon2-cffi                   21.3.0\n",
      "argon2-cffi-bindings          21.2.0\n",
      "asttokens                     2.2.1\n",
      "async-generator               1.10\n",
      "attrs                         23.1.0\n",
      "Babel                         2.12.1\n",
      "backcall                      0.2.0\n",
      "backports.functools-lru-cache 1.6.4\n",
      "beautifulsoup4                4.12.2\n",
      "bleach                        6.0.0\n",
      "blinker                       1.6.2\n",
      "certifi                       2023.5.7\n",
      "certipy                       0.1.3\n",
      "cffi                          1.15.1\n",
      "charset-normalizer            3.1.0\n",
      "comm                          0.1.3\n",
      "cryptography                  41.0.1\n",
      "debugpy                       1.6.7\n",
      "decorator                     5.1.1\n",
      "defusedxml                    0.7.1\n",
      "entrypoints                   0.4\n",
      "et-xmlfile                    1.1.0\n",
      "exceptiongroup                1.1.1\n",
      "executing                     1.2.0\n",
      "fastjsonschema                2.17.1\n",
      "flit_core                     3.9.0\n",
      "greenlet                      2.0.2\n",
      "idna                          3.4\n",
      "importlib-metadata            6.6.0\n",
      "importlib-resources           5.12.0\n",
      "ipykernel                     6.23.1\n",
      "ipython                       8.14.0\n",
      "ipython-genutils              0.2.0\n",
      "ipywidgets                    8.0.6\n",
      "jedi                          0.18.2\n",
      "Jinja2                        3.1.2\n",
      "json5                         0.9.5\n",
      "jsonschema                    4.17.3\n",
      "jupyter_client                8.2.0\n",
      "jupyter_core                  5.3.0\n",
      "jupyter-events                0.6.3\n",
      "jupyter-offlinenotebook       0.2.2\n",
      "jupyter-resource-usage        0.7.1\n",
      "jupyter-server                1.23.6\n",
      "jupyter_server_fileid         0.9.0\n",
      "jupyter_server_ydoc           0.8.0\n",
      "jupyter-telemetry             0.1.0\n",
      "jupyter-ydoc                  0.2.4\n",
      "jupyterhub                    3.1.1\n",
      "jupyterlab                    3.6.4\n",
      "jupyterlab-pygments           0.2.2\n",
      "jupyterlab_server             2.22.1\n",
      "jupyterlab-widgets            3.0.7\n",
      "Mako                          1.2.4\n",
      "MarkupSafe                    2.1.3\n",
      "matplotlib-inline             0.1.6\n",
      "mistune                       2.0.5\n",
      "nbclassic                     1.0.0\n",
      "nbclient                      0.8.0\n",
      "nbconvert                     7.4.0\n",
      "nbformat                      5.9.0\n",
      "nest-asyncio                  1.5.6\n",
      "notebook                      6.5.4\n",
      "notebook_shim                 0.2.3\n",
      "numpy                         1.25.2\n",
      "oauthlib                      3.2.2\n",
      "openpyxl                      3.1.2\n",
      "packaging                     23.1\n",
      "pamela                        1.0.0\n",
      "pandas                        2.0.3\n",
      "pandocfilters                 1.5.0\n",
      "parso                         0.8.3\n",
      "pexpect                       4.8.0\n",
      "pickleshare                   0.7.5\n",
      "pip                           23.1.2\n",
      "pkgutil_resolve_name          1.3.10\n",
      "platformdirs                  3.5.1\n",
      "prometheus-client             0.17.0\n",
      "prompt-toolkit                3.0.38\n",
      "psutil                        5.9.5\n",
      "ptyprocess                    0.7.0\n",
      "pure-eval                     0.2.2\n",
      "pycparser                     2.21\n",
      "Pygments                      2.15.1\n",
      "PyJWT                         2.7.0\n",
      "pyOpenSSL                     23.2.0\n",
      "pyrsistent                    0.19.3\n",
      "PySocks                       1.7.1\n",
      "python-dateutil               2.8.2\n",
      "python-json-logger            2.0.7\n",
      "pytz                          2023.3\n",
      "PyYAML                        6.0\n",
      "pyzmq                         25.1.0\n",
      "requests                      2.31.0\n",
      "rfc3339-validator             0.1.4\n",
      "rfc3986-validator             0.1.1\n",
      "ruamel.yaml                   0.17.31\n",
      "ruamel.yaml.clib              0.2.7\n",
      "Send2Trash                    1.8.2\n",
      "setuptools                    67.7.2\n",
      "six                           1.16.0\n",
      "sniffio                       1.3.0\n",
      "soupsieve                     2.3.2.post1\n",
      "SQLAlchemy                    2.0.15\n",
      "stack-data                    0.6.2\n",
      "tabulate                      0.9.0\n",
      "terminado                     0.17.1\n",
      "tinycss2                      1.2.1\n",
      "tomli                         2.0.1\n",
      "tornado                       6.3.2\n",
      "traitlets                     5.9.0\n",
      "typing_extensions             4.6.3\n",
      "tzdata                        2023.3\n",
      "urllib3                       2.0.3\n",
      "wcwidth                       0.2.6\n",
      "webencodings                  0.5.1\n",
      "websocket-client              1.5.2\n",
      "wheel                         0.40.0\n",
      "widgetsnbextension            4.0.7\n",
      "y-py                          0.5.9\n",
      "ypy-websocket                 0.8.2\n",
      "zipp                          3.15.0\n",
      "Note: you may need to restart the kernel to use updated packages.\n"
     ]
    }
   ],
   "source": [
    "pip list"
   ]
  },
  {
   "cell_type": "code",
   "execution_count": 13,
   "id": "6b140c65-4dd6-4b0e-8264-8f8b85ce84a7",
   "metadata": {
    "tags": []
   },
   "outputs": [
    {
     "name": "stdout",
     "output_type": "stream",
     "text": [
      "Requirement already satisfied: openpyxl in /srv/conda/envs/notebook/lib/python3.10/site-packages (3.1.2)\n",
      "Requirement already satisfied: et-xmlfile in /srv/conda/envs/notebook/lib/python3.10/site-packages (from openpyxl) (1.1.0)\n",
      "Note: you may need to restart the kernel to use updated packages.\n"
     ]
    }
   ],
   "source": [
    "pip install openpyxl"
   ]
  },
  {
   "cell_type": "code",
   "execution_count": 5,
   "id": "831c923e-67ec-4e1c-a852-bc57ef921c76",
   "metadata": {
    "tags": []
   },
   "outputs": [
    {
     "name": "stdout",
     "output_type": "stream",
     "text": [
      "Requirement already satisfied: tabulate in /srv/conda/envs/notebook/lib/python3.10/site-packages (0.9.0)\n",
      "Note: you may need to restart the kernel to use updated packages.\n"
     ]
    }
   ],
   "source": [
    "pip install tabulate"
   ]
  },
  {
   "cell_type": "code",
   "execution_count": 6,
   "id": "49128d59-e87d-4650-8b99-f5fdff3f8a35",
   "metadata": {
    "tags": []
   },
   "outputs": [],
   "source": [
    "from tabulate import tabulate"
   ]
  },
  {
   "cell_type": "code",
   "execution_count": 14,
   "id": "3eea1a4b-e9b4-4b0d-a9dc-179c24660b06",
   "metadata": {
    "tags": []
   },
   "outputs": [
    {
     "ename": "NameError",
     "evalue": "name 'openpyxl' is not defined",
     "output_type": "error",
     "traceback": [
      "\u001b[0;31m---------------------------------------------------------------------------\u001b[0m",
      "\u001b[0;31mNameError\u001b[0m                                 Traceback (most recent call last)",
      "Cell \u001b[0;32mIn[14], line 1\u001b[0m\n\u001b[0;32m----> 1\u001b[0m excel_dataframe\u001b[38;5;241m=\u001b[39m\u001b[43mopenpyxl\u001b[49m\u001b[38;5;241m.\u001b[39mload_workbook(\u001b[38;5;124m\"\u001b[39m\u001b[38;5;124mTabla_Constantes_de_Antoine_.xlsx\u001b[39m\u001b[38;5;124m\"\u001b[39m)\n",
      "\u001b[0;31mNameError\u001b[0m: name 'openpyxl' is not defined"
     ]
    }
   ],
   "source": [
    "excel_dataframe=openpyxl.load_workbook(\"Tabla_Constantes_de_Antoine_.xlsx\")"
   ]
  },
  {
   "cell_type": "code",
   "execution_count": 15,
   "id": "25f990cb-3eca-4fb3-9a4a-c0298e3b880b",
   "metadata": {
    "tags": []
   },
   "outputs": [
    {
     "ename": "NameError",
     "evalue": "name 'excel_dataframe' is not defined",
     "output_type": "error",
     "traceback": [
      "\u001b[0;31m---------------------------------------------------------------------------\u001b[0m",
      "\u001b[0;31mNameError\u001b[0m                                 Traceback (most recent call last)",
      "Cell \u001b[0;32mIn[15], line 1\u001b[0m\n\u001b[0;32m----> 1\u001b[0m dataframe\u001b[38;5;241m=\u001b[39m\u001b[43mexcel_dataframe\u001b[49m\u001b[38;5;241m.\u001b[39mactive\n",
      "\u001b[0;31mNameError\u001b[0m: name 'excel_dataframe' is not defined"
     ]
    }
   ],
   "source": [
    "dataframe=excel_dataframe.active"
   ]
  },
  {
   "cell_type": "code",
   "execution_count": 16,
   "id": "cce256a7-894e-41ce-a092-a4a6efa3e494",
   "metadata": {
    "tags": []
   },
   "outputs": [
    {
     "ename": "NameError",
     "evalue": "name 'dataframe' is not defined",
     "output_type": "error",
     "traceback": [
      "\u001b[0;31m---------------------------------------------------------------------------\u001b[0m",
      "\u001b[0;31mNameError\u001b[0m                                 Traceback (most recent call last)",
      "Cell \u001b[0;32mIn[16], line 1\u001b[0m\n\u001b[0;32m----> 1\u001b[0m \u001b[38;5;28mprint\u001b[39m(\u001b[43mdataframe\u001b[49m)\n",
      "\u001b[0;31mNameError\u001b[0m: name 'dataframe' is not defined"
     ]
    }
   ],
   "source": [
    "print(dataframe)"
   ]
  }
 ],
 "metadata": {
  "kernelspec": {
   "display_name": "Python 3 (ipykernel)",
   "language": "python",
   "name": "python3"
  },
  "language_info": {
   "codemirror_mode": {
    "name": "ipython",
    "version": 3
   },
   "file_extension": ".py",
   "mimetype": "text/x-python",
   "name": "python",
   "nbconvert_exporter": "python",
   "pygments_lexer": "ipython3",
   "version": "3.10.11"
  }
 },
 "nbformat": 4,
 "nbformat_minor": 5
}
